{
 "cells": [
  {
   "cell_type": "markdown",
   "id": "e808b22c-5dec-4d71-bdb8-61fa91b81f53",
   "metadata": {},
   "source": [
    "# This should run when I use cite():"
   ]
  },
  {
   "cell_type": "code",
   "execution_count": 1,
   "id": "a46a1de7-c1f3-4ad2-a8a2-c6fabe246321",
   "metadata": {},
   "outputs": [
    {
     "ename": "ModuleNotFoundError",
     "evalue": "No module named 'bibtexparser'",
     "output_type": "error",
     "traceback": [
      "\u001b[0;31m---------------------------------------------------------------------------\u001b[0m",
      "\u001b[0;31mModuleNotFoundError\u001b[0m                       Traceback (most recent call last)",
      "Cell \u001b[0;32mIn[1], line 1\u001b[0m\n\u001b[0;32m----> 1\u001b[0m \u001b[38;5;28;01mimport\u001b[39;00m \u001b[38;5;21;01mbibtexparser\u001b[39;00m\n\u001b[1;32m      2\u001b[0m \u001b[38;5;28;01mwith\u001b[39;00m \u001b[38;5;28mopen\u001b[39m(\u001b[38;5;124m'\u001b[39m\u001b[38;5;124m/Users/kmt/Desktop/jupyter-references/readcube.bib\u001b[39m\u001b[38;5;124m'\u001b[39m) \u001b[38;5;28;01mas\u001b[39;00m f:\n\u001b[1;32m      3\u001b[0m     ref_db \u001b[38;5;241m=\u001b[39m bibtexparser\u001b[38;5;241m.\u001b[39mload(f)\u001b[38;5;241m.\u001b[39mentries\n",
      "\u001b[0;31mModuleNotFoundError\u001b[0m: No module named 'bibtexparser'"
     ]
    }
   ],
   "source": [
    "import bibtexparser\n",
    "with open('/Users/kmt/Desktop/jupyter-references/readcube.bib') as f:\n",
    "    ref_db = bibtexparser.load(f).entries\n",
    "    # ref_db = {}\n",
    "    # for entry in db.entries:\n",
    "    #     ref_db[entry['ID']] = entry\n",
    "ref_db[:1]"
   ]
  },
  {
   "cell_type": "code",
   "execution_count": 12,
   "id": "72d3ef37-dc1d-43f2-aad0-7aaa25ab727c",
   "metadata": {},
   "outputs": [
    {
     "data": {
      "text/plain": [
       "[{'seq': 15227,\n",
       "  'files': [],\n",
       "  'article': {'isbn': None,\n",
       "   'issn': '1424-8581',\n",
       "   'year': 2007,\n",
       "   'eisbn': None,\n",
       "   'eissn': '1424-859X',\n",
       "   'issue': '1-2',\n",
       "   'title': 'Discontinuities and unsynapsed regions in meiotic chromosomes have a trans effect on meiotic recombination of some chromosomes in human males',\n",
       "   'volume': '119',\n",
       "   'authors': ['F Sun',\n",
       "    'M Oliver-Bonet',\n",
       "    'T Liehr',\n",
       "    'H Starke',\n",
       "    'E Ko',\n",
       "    'A Rademaker',\n",
       "    'R.H. Martin'],\n",
       "   'chapter': None,\n",
       "   'journal': 'Cytogenetic and Genome Research',\n",
       "   'abstract': 'During meiosis, homologous chromosome pairing and synapsis are essential for subsequent meiotic recombination (crossing-over). Discontinuous regions (gaps) and unsynapsed regions (splits) were most frequently observed in the heterochromatic regions of bivalent synaptonemal complex (SC) 9, and we have previously demonstrated that gaps and splits significantly altered the distribution of MLH1 recombination foci on SC 9. Here, immunofluorescence techniques (using antibodies against SC proteins and the crossover-associated MLH1 protein) were combined with a centromere-specific fluorescence in situ hybridization technique that allows identification of every individual chromosome. The effect of gaps/splits on meiotic recombination patterns in autosomes other than chromosome 9 during the pachytene stage of meiotic prophase was then examined in 6,026 bivalents from 262 pachytene cells from three human males. In 64 analyzed cells with a gapped SC 9, the frequency of MLH1 foci in SCs 5 and 10 and in SC arms 10q, 11p and 16q was decreased compared to 168 analyzed cells with a normally-synapsed SC 9 (controls). In 24 analyzed cells with splits in SC 9, there was a significant reduction in MLH1 focus frequency for SC 5q and the whole SC5 bivalent. The positioning of MLH1 foci on other SCs in cells with gapped/split SC 9 was not altered. These studies suggest that gaps and splits not only have a cis effect, but may also have a trans effect on meiotic recombination in humans.',\n",
       "   'pagination': '27-32',\n",
       "   'journal_abbrev': 'Cytogenet Genome Res'},\n",
       "  'deleted': False,\n",
       "  'ext_ids': {'doi': '10.1159/000109615', 'pmid': '18160778'},\n",
       "  'item_type': 'article',\n",
       "  'user_data': {'star': False,\n",
       "   'tags': [],\n",
       "   'notes': None,\n",
       "   'source': None,\n",
       "   'unread': True,\n",
       "   'citekey': 'Sun:2007ff3',\n",
       "   'created': '2018-11-05T12:47:37Z',\n",
       "   'modified': '2020-03-19T18:38:55Z',\n",
       "   'createdby': 'Web App Preview',\n",
       "   'last_read': None,\n",
       "   'modifiedby': 'desktop-MacOS10.15.3-2.33.14531',\n",
       "   'view_count': None,\n",
       "   'print_count': 0,\n",
       "   'sourced_from': 0,\n",
       "   'active_read_time': None,\n",
       "   'has_annotations': False,\n",
       "   'last_read_total': None,\n",
       "   'view_count_total': 0},\n",
       "  'collection_id': 'ff394a98-20f7-4882-871c-840e9f73d65b',\n",
       "  'custom_metadata': {'type': 'article'},\n",
       "  'id': 'f6611950-267b-446a-a4c6-a6922c6167a4',\n",
       "  'type': 'item',\n",
       "  'access_data': {}}]"
      ]
     },
     "execution_count": 12,
     "metadata": {},
     "output_type": "execute_result"
    }
   ],
   "source": [
    "import json\n",
    "with open('/Users/kmt/Desktop/jupyter-references/readcube.json') as f:\n",
    "    ref_db = json.load(f)['items']\n",
    "ref_db[:1]"
   ]
  },
  {
   "cell_type": "code",
   "execution_count": 24,
   "id": "7aeff8a4-95e0-4da1-b9f0-6ee3e699069c",
   "metadata": {},
   "outputs": [
    {
     "data": {
      "application/vnd.jupyter.widget-view+json": {
       "model_id": "dad16821a683417898c27b19211b3853",
       "version_major": 2,
       "version_minor": 0
      },
      "text/plain": [
       "VBox(children=(HBox(children=(Text(value='', continuous_update=False, description='Authors', layout=Layout(wid…"
      ]
     },
     "execution_count": 24,
     "metadata": {},
     "output_type": "execute_result"
    }
   ],
   "source": [
    "import ipywidgets as widgets\n",
    "import pandas as pd\n",
    "from time import sleep\n",
    "\n",
    "def search():\n",
    "    w_list = []\n",
    "    Authors = widgets.Text(description='Authors', continuous_update=False, layout=widgets.Layout(width='20%'))\n",
    "    w_list.append(Authors)\n",
    "    Year = widgets.Text(description='Year', continuous_update=False, layout=widgets.Layout(width='140px'))\n",
    "    w_list.append(Year)\n",
    "    Title = widgets.Text(description='Title', continuous_update=False, layout=widgets.Layout(width='20%'))\n",
    "    w_list.append(Title)\n",
    "    Journal = widgets.Text(description='Journal', continuous_update=False, layout=widgets.Layout(width='20%'))\n",
    "    w_list.append(Journal)\n",
    "    Select = widgets.Text(description='Select', continuous_update=False, layout=widgets.Layout(width='140px'))\n",
    "    w_list.append(Select)\n",
    "\n",
    "    def f(authors, year, title, journal, select):\n",
    "        df = pd.DataFrame(dict(ID=['10110:/asdfk.sd2421']*5, Authors=[authors]*5, \n",
    "                               Year=[year]*5, Title=[title]*5, Journal=[journal]*5))\n",
    "        df.set_index(df.index+1, inplace=True)\n",
    "        if not select:\n",
    "            with pd.option_context('display.max_colwidth', 100):\n",
    "                left_aligned_df = df.style.set_properties(**{'text-align': 'left'})\n",
    "                left_aligned_df = left_aligned_df.set_table_styles(\n",
    "                [dict(selector = 'th', props=[('text-align', 'left')])])\n",
    "\n",
    "                display(left_aligned_df)\n",
    "        else:\n",
    "            # this closes all widgets except the output\n",
    "            for w in w_list:\n",
    "                w.close()\n",
    "            # this closes output the outermost layer of the widget with the function output\n",
    "            # out.close() \n",
    "\n",
    "            idx = list(map(int, select.split()))\n",
    "            print('produce citation markdown for:', df.loc[idx])\n",
    "\n",
    "            df.loc[idx].to_clipboard(index=False, header=False)\n",
    "            print('selected bibtex entry copied to clipboard')\n",
    "\n",
    "            return None\n",
    "\n",
    "    out = widgets.interactive_output(f, {'authors': Authors, 'year': Year, \n",
    "                                         'title': Title, 'journal': Journal, \n",
    "                                         'select': Select})\n",
    "\n",
    "\n",
    "    from IPython.display import clear_output\n",
    "    print('Loading refernce database... (this is only done once)')\n",
    "    sleep(1)\n",
    "    clear_output()\n",
    "\n",
    "    # widgets.VBox([widgets.VBox([Authors, Year, Title]), out])\n",
    "    vb = widgets.HBox([Authors, Year, Title, Journal, Select])\n",
    "    w_list.append(vb)\n",
    "    vh = widgets.VBox([vb, out])\n",
    "    \n",
    "    return vh\n",
    "\n",
    "search()"
   ]
  },
  {
   "cell_type": "code",
   "execution_count": 119,
   "id": "468e22f5-767c-490b-a088-0f7c916fd8a3",
   "metadata": {},
   "outputs": [],
   "source": [
    "import bibtexparser\n",
    "from collections import defaultdict\n",
    "from thefuzz import fuzz, process\n",
    "# https://app.datacamp.com/workspace/w/39daba8f-064f-4b3f-a1e6-7069fcb918b3\n",
    "# https://github.com/seatgeek/thefuzz#simple-ratio\n",
    "\n",
    "with open('readcube.bib') as bibtex_file:\n",
    "    bib_database = bibtexparser.load(bibtex_file).entries\n",
    "    \n",
    "for i in range(len(bib_database)):\n",
    "    if 'title' in  bib_database[i]:\n",
    "        bib_database[i]['title'] = bib_database[i]['title'].replace('{', '').replace('}', '')\n",
    "    \n",
    "class left:\n",
    "    def __rlshift__(self, df):\n",
    "        \"Left align columns of data frame: df << left()\"\n",
    "        left_aligned_df = df.style.set_properties(**{'text-align': 'left'})\n",
    "        left_aligned_df = left_aligned_df.set_table_styles(\n",
    "        [dict(selector = 'th', props=[('text-align', 'left')])])\n",
    "        display(left_aligned_df)  "
   ]
  },
  {
   "cell_type": "code",
   "execution_count": 168,
   "id": "ea563425-4bd6-43bb-89df-4fedd033e498",
   "metadata": {},
   "outputs": [
    {
     "data": {
      "text/html": [
       "<style type=\"text/css\">\n",
       "#T_f0187 th {\n",
       "  text-align: left;\n",
       "}\n",
       "#T_f0187_row0_col0, #T_f0187_row0_col1, #T_f0187_row0_col2, #T_f0187_row0_col3, #T_f0187_row1_col0, #T_f0187_row1_col1, #T_f0187_row1_col2, #T_f0187_row1_col3, #T_f0187_row2_col0, #T_f0187_row2_col1, #T_f0187_row2_col2, #T_f0187_row2_col3, #T_f0187_row3_col0, #T_f0187_row3_col1, #T_f0187_row3_col2, #T_f0187_row3_col3, #T_f0187_row4_col0, #T_f0187_row4_col1, #T_f0187_row4_col2, #T_f0187_row4_col3, #T_f0187_row5_col0, #T_f0187_row5_col1, #T_f0187_row5_col2, #T_f0187_row5_col3, #T_f0187_row6_col0, #T_f0187_row6_col1, #T_f0187_row6_col2, #T_f0187_row6_col3, #T_f0187_row7_col0, #T_f0187_row7_col1, #T_f0187_row7_col2, #T_f0187_row7_col3, #T_f0187_row8_col0, #T_f0187_row8_col1, #T_f0187_row8_col2, #T_f0187_row8_col3, #T_f0187_row9_col0, #T_f0187_row9_col1, #T_f0187_row9_col2, #T_f0187_row9_col3 {\n",
       "  text-align: left;\n",
       "}\n",
       "</style>\n",
       "<table id=\"T_f0187\">\n",
       "  <thead>\n",
       "    <tr>\n",
       "      <th class=\"blank level0\" >&nbsp;</th>\n",
       "      <th id=\"T_f0187_level0_col0\" class=\"col_heading level0 col0\" >Author</th>\n",
       "      <th id=\"T_f0187_level0_col1\" class=\"col_heading level0 col1\" >Year</th>\n",
       "      <th id=\"T_f0187_level0_col2\" class=\"col_heading level0 col2\" >Title</th>\n",
       "      <th id=\"T_f0187_level0_col3\" class=\"col_heading level0 col3\" >Journal</th>\n",
       "    </tr>\n",
       "  </thead>\n",
       "  <tbody>\n",
       "    <tr>\n",
       "      <th id=\"T_f0187_level0_row0\" class=\"row_heading level0 row0\" >1</th>\n",
       "      <td id=\"T_f0187_row0_col0\" class=\"data row0 col0\" >Elyashiv, Sattath, ..., Sella</td>\n",
       "      <td id=\"T_f0187_row0_col1\" class=\"data row0 col1\" >2016</td>\n",
       "      <td id=\"T_f0187_row0_col2\" class=\"data row0 col2\" >A Genomic Map of the Effects of Linked Selection in Drosophila</td>\n",
       "      <td id=\"T_f0187_row0_col3\" class=\"data row0 col3\" >PLOS Genetics</td>\n",
       "    </tr>\n",
       "    <tr>\n",
       "      <th id=\"T_f0187_level0_row1\" class=\"row_heading level0 row1\" >2</th>\n",
       "      <td id=\"T_f0187_row1_col0\" class=\"data row1 col0\" >Sankararaman, Mallick, ..., Reich</td>\n",
       "      <td id=\"T_f0187_row1_col1\" class=\"data row1 col1\" >2016</td>\n",
       "      <td id=\"T_f0187_row1_col2\" class=\"data row1 col2\" >The Combined Landscape of Denisovan and Neanderthal Ancestry in Present-Day Humans</td>\n",
       "      <td id=\"T_f0187_row1_col3\" class=\"data row1 col3\" >Current Biology</td>\n",
       "    </tr>\n",
       "    <tr>\n",
       "      <th id=\"T_f0187_level0_row2\" class=\"row_heading level0 row2\" >3</th>\n",
       "      <td id=\"T_f0187_row2_col0\" class=\"data row2 col0\" >Vernot, Tucci, ..., Akey</td>\n",
       "      <td id=\"T_f0187_row2_col1\" class=\"data row2 col1\" >2016</td>\n",
       "      <td id=\"T_f0187_row2_col2\" class=\"data row2 col2\" >Excavating Neandertal and Denisovan DNA from the genomes of Melanesian individuals</td>\n",
       "      <td id=\"T_f0187_row2_col3\" class=\"data row2 col3\" >Science</td>\n",
       "    </tr>\n",
       "    <tr>\n",
       "      <th id=\"T_f0187_level0_row3\" class=\"row_heading level0 row3\" >4</th>\n",
       "      <td id=\"T_f0187_row3_col0\" class=\"data row3 col0\" >Melkov, Baskar, ..., Abdu</td>\n",
       "      <td id=\"T_f0187_row3_col1\" class=\"data row3 col1\" >2016</td>\n",
       "      <td id=\"T_f0187_row3_col2\" class=\"data row3 col2\" >A new mode of mitochondrial transport and polarized sorting regulated by Dynein, Milton and Miro</td>\n",
       "      <td id=\"T_f0187_row3_col3\" class=\"data row3 col3\" >Development</td>\n",
       "    </tr>\n",
       "    <tr>\n",
       "      <th id=\"T_f0187_level0_row4\" class=\"row_heading level0 row4\" >5</th>\n",
       "      <td id=\"T_f0187_row4_col0\" class=\"data row4 col0\" >Griffiths, Jenkins, Lessard</td>\n",
       "      <td id=\"T_f0187_row4_col1\" class=\"data row4 col1\" >2016</td>\n",
       "      <td id=\"T_f0187_row4_col2\" class=\"data row4 col2\" >A coalescent dual process for a Wright-Fisher diffusion with recombination and its application to haplotype partitioning</td>\n",
       "      <td id=\"T_f0187_row4_col3\" class=\"data row4 col3\" >Theoretical Population Biology</td>\n",
       "    </tr>\n",
       "    <tr>\n",
       "      <th id=\"T_f0187_level0_row5\" class=\"row_heading level0 row5\" >6</th>\n",
       "      <td id=\"T_f0187_row5_col0\" class=\"data row5 col0\" >Mendez, Poznik, ..., Bustamante</td>\n",
       "      <td id=\"T_f0187_row5_col1\" class=\"data row5 col1\" >2016</td>\n",
       "      <td id=\"T_f0187_row5_col2\" class=\"data row5 col2\" >The Divergence of Neandertal and Modern Human Y Chromosomes</td>\n",
       "      <td id=\"T_f0187_row5_col3\" class=\"data row5 col3\" >The American Journal of Human ...</td>\n",
       "    </tr>\n",
       "    <tr>\n",
       "      <th id=\"T_f0187_level0_row6\" class=\"row_heading level0 row6\" >7</th>\n",
       "      <td id=\"T_f0187_row6_col0\" class=\"data row6 col0\" >Smagulova, Brick, ..., Petukhova</td>\n",
       "      <td id=\"T_f0187_row6_col1\" class=\"data row6 col1\" >2016</td>\n",
       "      <td id=\"T_f0187_row6_col2\" class=\"data row6 col2\" >The evolutionary turnover of recombination hot spots contributes to speciation in mice.</td>\n",
       "      <td id=\"T_f0187_row6_col3\" class=\"data row6 col3\" >Genes \\& development</td>\n",
       "    </tr>\n",
       "    <tr>\n",
       "      <th id=\"T_f0187_level0_row7\" class=\"row_heading level0 row7\" >8</th>\n",
       "      <td id=\"T_f0187_row7_col0\" class=\"data row7 col0\" >Whitlock, Peck, ..., Burch</td>\n",
       "      <td id=\"T_f0187_row7_col1\" class=\"data row7 col1\" >2016</td>\n",
       "      <td id=\"T_f0187_row7_col2\" class=\"data row7 col2\" >An Evolving Genetic Architecture Interacts with Hill-Robertson Interference to Determine the Benefit of Sex.</td>\n",
       "      <td id=\"T_f0187_row7_col3\" class=\"data row7 col3\" >Genetics</td>\n",
       "    </tr>\n",
       "    <tr>\n",
       "      <th id=\"T_f0187_level0_row8\" class=\"row_heading level0 row8\" >9</th>\n",
       "      <td id=\"T_f0187_row8_col0\" class=\"data row8 col0\" >Mallick, Li, ..., Reich</td>\n",
       "      <td id=\"T_f0187_row8_col1\" class=\"data row8 col1\" >2016</td>\n",
       "      <td id=\"T_f0187_row8_col2\" class=\"data row8 col2\" >The Simons Genome Diversity Project: 300 genomes from 142 diverse populations</td>\n",
       "      <td id=\"T_f0187_row8_col3\" class=\"data row8 col3\" >Nature</td>\n",
       "    </tr>\n",
       "    <tr>\n",
       "      <th id=\"T_f0187_level0_row9\" class=\"row_heading level0 row9\" >10</th>\n",
       "      <td id=\"T_f0187_row9_col0\" class=\"data row9 col0\" >Wright, Mudge, ..., Harrow</td>\n",
       "      <td id=\"T_f0187_row9_col1\" class=\"data row9 col1\" >2016</td>\n",
       "      <td id=\"T_f0187_row9_col2\" class=\"data row9 col2\" >Improving GENCODE reference gene annotation using a high-stringency proteogenomics workflow</td>\n",
       "      <td id=\"T_f0187_row9_col3\" class=\"data row9 col3\" >Nature Communications</td>\n",
       "    </tr>\n",
       "  </tbody>\n",
       "</table>\n"
      ],
      "text/plain": [
       "<pandas.io.formats.style.Styler at 0x1681df580>"
      ]
     },
     "metadata": {},
     "output_type": "display_data"
    }
   ],
   "source": [
    "author_strings = {} # [f'{i} {x}' for (i, x) in enumerate(author)]\n",
    "title_strings = {} # [f'{i} {x}' for (i, x) in enumerate(title)]\n",
    "journal_strings = {} # [f'{i} {x}' for (i, x) in enumerate(journal)]\n",
    "year_strings = {} # [f'{i} {x}' for (i, x) in enumerate(year)]\n",
    "\n",
    "year = '2016'\n",
    "\n",
    "for i, entry in enumerate(bib_database):\n",
    "\n",
    "    if not all(x in entry for x in ['author', 'year', 'title', 'journal']):\n",
    "        continue\n",
    "    \n",
    "    if entry['year'] != year:\n",
    "        continue\n",
    "    \n",
    "    author_list = entry['author'].split(' and ')\n",
    "    author_list = [a.split(', ')[0] for a in author_list]\n",
    "    \n",
    "    if len(author_list) > 6:\n",
    "        author_strings[i] = f\"{i} {' '.join(author_list[:3] + author_list[-3:])}\"\n",
    "    else:\n",
    "        author_strings[i] = f\"{i} {' '.join(author_list[:6])}\"\n",
    "\n",
    "    title_strings[i] = f\"{i} {entry['title'][1:-1]}\"\n",
    "    year_strings[i] = f\"{i} {entry['year'][1:-1]}\"\n",
    "    journal_strings[i] = f\"{i} {entry['journal'][1:-1]}\"\n",
    "\n",
    "\n",
    "author_hits = process.extractBests(\"Elyashiv\", author_strings.values(), \n",
    "                     scorer=fuzz.partial_token_set_ratio, limit=3)\n",
    "year_hits = process.extractBests('2016'.join(year), year_strings.values(), \n",
    "                     scorer=fuzz.partial_token_set_ratio, limit=3)\n",
    "title_hits = process.extractBests('Selection'.join(names), title_strings.values(), \n",
    "                     scorer=fuzz.partial_token_set_ratio, limit=3)\n",
    "journal_hits = process.extractBests('plos genetics'.join(names), journal_strings.values(), \n",
    "                     scorer=fuzz.partial_token_set_ratio, limit=3)\n",
    "\n",
    "scores = defaultdict(int)\n",
    "for hit, score in author_hits + year_hits + title_hits + journal_hits:\n",
    "    i, string = hit.split(' ', 1)\n",
    "    scores[int(i)] += score# / len(string)\n",
    "    \n",
    "    \n",
    "_, db_idx = zip(*sorted([(v, k) for k, v in scores.items()], reverse=True))\n",
    "result = [bib_database[i] for i in db_idx]\n",
    "records = []\n",
    "\n",
    "def format_row(r):\n",
    "    author_list = r['author'].split(' and ')\n",
    "    author_list = [a.split(', ')[0] for a in author_list]   \n",
    "    if len(author_list) > 3:\n",
    "        author = ', '.join(author_list[:2] + ['...'] +  author_list[-1:])\n",
    "    else:\n",
    "        author = ', '.join(author_list)\n",
    "    if len(r['journal']) > 30:\n",
    "        journal =  r['journal'][:30] + '...'\n",
    "    else:\n",
    "        journal =  r['journal']\n",
    "    return [author, r['year'], r['title'], journal]\n",
    "\n",
    "df = pd.DataFrame().from_records([format_row(r) for r in result],\n",
    "                                 columns=['Author', 'Year', 'Title', 'Journal'])\n",
    "df.index += 1\n",
    "    \n",
    "with pd.option_context('display.max_colwidth', 100):\n",
    "    left_aligned_df = df.style.set_properties(**{'text-align': 'left'})\n",
    "    left_aligned_df = left_aligned_df.set_table_styles(\n",
    "        [dict(selector = 'th', props=[('text-align', 'left')])])\n",
    "    display(left_aligned_df)"
   ]
  },
  {
   "cell_type": "code",
   "execution_count": 162,
   "id": "9c8e5edd-1be7-4def-8b06-d24577d17b14",
   "metadata": {},
   "outputs": [
    {
     "name": "stdout",
     "output_type": "stream",
     "text": [
      "Viuff,\n",
      "Giovenino,\n",
      "Skov,\n"
     ]
    },
    {
     "data": {
      "text/plain": [
       "[('2', 0), ('0', 0), ('1', 0)]"
      ]
     },
     "execution_count": 162,
     "metadata": {},
     "output_type": "execute_result"
    }
   ],
   "source": [
    "title_hits = process.extractBests(\"X\", all_tokens, \n",
    "                     scorer=fuzz.partial_token_set_ratio, limit=3)\n",
    "title_hits = process.extractBests(\"X\", all_tokens, \n",
    "                     scorer=fuzz.partial_token_set_ratio, limit=3)\n",
    "\n",
    "\n",
    "for hit, score in title_hits:\n",
    "    search_id, search_string = hit.split(' ', 1)\n",
    "    print(search_id)\n",
    "\n",
    "year_hits = process.extractBests(' '.join(names), year, \n",
    "                     scorer=fuzz.partial_token_set_ratio, limit=3)\n",
    "year_hits"
   ]
  },
  {
   "cell_type": "code",
   "execution_count": 18,
   "id": "25379382-bb7a-4c61-bc39-043159f75da1",
   "metadata": {},
   "outputs": [
    {
     "data": {
      "text/plain": [
       "(('4 Skov, Laurits Macià, Moisès Coll Lucotte, Elise Anne Castellano, David Schierup, Mikkel Heide Munch, Kasper Cell Genomics',\n",
       "  100),\n",
       " ('Viuff, Mette Skakkebæk, Anne Johannsen, Emma B. Trolle, Christian Just, Jesper Gravholt, Claus H. Genome Medicine X chromosome dosage and the genetic impact across human tissues 2023',\n",
       "  100))"
      ]
     },
     "execution_count": 18,
     "metadata": {},
     "output_type": "execute_result"
    }
   ],
   "source": [
    "author_journal_hits[0], title_hits[0]"
   ]
  },
  {
   "cell_type": "code",
   "execution_count": 19,
   "id": "bb9983e2-a2b0-4aac-9aa7-a6633d908268",
   "metadata": {},
   "outputs": [
    {
     "name": "stdout",
     "output_type": "stream",
     "text": [
      "{'pages': '100274', 'abstract': \"{The X chromosome in non-African humans shows less diversity and less Neanderthal introgression than expected from neutral evolution. Analyzing 162 human male X chromosomes worldwide, we identified fourteen chromosomal regions where nearly identical haplotypes spanning several hundred kilobases are found at high frequencies in non-Africans. Genetic drift alone cannot explain the existence of these haplotypes, which must have been associated with strong positive selection in partial selective sweeps. Moreover, the swept haplotypes are entirely devoid of archaic ancestry as opposed to the non-swept haplotypes in the same genomic regions. The ancient Ust'-Ishim male dated at 45,000 before the present (BP)\\xa0also carries the swept haplotypes, implying that selection on the haplotypes must have occurred between 45,000 and 55,000 years ago. Finally, we find that the chromosomal positions of sweeps overlap previously reported hotspots of selective\\xa0sweeps in great ape evolution, suggesting a mechanism of selection unique to X chromosomes.}\", 'doi': '10.1016/j.xgen.2023.100274', 'issn': '2666-979X', 'journal': 'Cell Genomics', 'author': 'Skov, Laurits and Macià, Moisès Coll and Lucotte, Elise Anne and Cavassim, Maria Izabel Alvez and Castellano, David and Schierup, Mikkel Heide and Munch, Kasper', 'title': '{Extraordinary selection on the human X chromosome associated with archaic admixture}', 'year': '2023', 'ENTRYTYPE': 'article', 'ID': '10.1016/j.xgen.2023.100274', 'clean_title': 'Extraordinary selection on the human X chromosome associated with archaic admixture', 'clean_author': 'Skov, Laurits Macià, Moisès Coll Lucotte, Elise Anne Castellano, David Schierup, Mikkel Heide Munch, Kasper'}\n"
     ]
    },
    {
     "data": {
      "text/markdown": [
       "Skov, Laurits and Macià, Moisès Coll and Lucotte, Elise Anne and Cavassim, Maria Izabel Alvez and Castellano, David and Schierup, Mikkel Heide and Munch, Kasper  \n",
       "**Extraordinary selection on the human X chromosome associated with archaic admixture**  \n",
       "Cell Genomics (2023)\n",
       "---\n"
      ],
      "text/plain": [
       "<IPython.core.display.Markdown object>"
      ]
     },
     "metadata": {},
     "output_type": "display_data"
    },
    {
     "name": "stdout",
     "output_type": "stream",
     "text": [
      "{'abstract': '{Principal component analysis (PCA) is commonly used in genetics to infer and visualize population structure and admixture between populations. PCA is often interpreted in a way similar to inferred admixture proportions, where it is assumed that individuals belong to one of several possible populations or are admixed between these populations. We propose a new method to assess the statistical fit of PCA (interpreted as a model spanned by the top principal components) and to show that violations of the PCA assumptions affect the fit. Our method uses the chosen top principal components to predict the genotypes. By assessing the covariance (and the correlation) of the residuals (the differences between observed and predicted genotypes), we are able to detect violation of the model assumptions. Based on simulations and genome wide human data we show that our assessment of fit can be used to guide the interpretation of the data and to pinpoint individuals that are not well represented by the chosen principal components. Our method works equally on other similar models, such as the admixture model, where the mean of the data is represented by linear matrix decomposition.}', 'eprint': '2302.04596', 'journal': 'arXiv', 'author': 'Waaij, Jan van and Li, Song and Garcia-Erill, Genís and Albrechtsen, Anders and Wiuf, Carsten', 'title': '{Evaluation of population structure inferred by principal component analysis or the admixture model}', 'year': '2023', 'ENTRYTYPE': 'article', 'ID': 'wzvi', 'clean_title': 'Evaluation of population structure inferred by principal component analysis or the admixture model', 'clean_author': 'Waaij, Jan van Li, Song Garcia-Erill, Genís Albrechtsen, Anders Wiuf, Carsten'}\n"
     ]
    },
    {
     "data": {
      "text/markdown": [
       "Waaij, Jan van and Li, Song and Garcia-Erill, Genís and Albrechtsen, Anders and Wiuf, Carsten  \n",
       "**Evaluation of population structure inferred by principal component analysis or the admixture model**  \n",
       "arXiv (2023)\n",
       "---\n"
      ],
      "text/plain": [
       "<IPython.core.display.Markdown object>"
      ]
     },
     "metadata": {},
     "output_type": "display_data"
    },
    {
     "name": "stdout",
     "output_type": "stream",
     "text": [
      "{'pages': '1--9', 'abstract': '{Despite major advances in genome technology and analysis, >50\\\\% of patients with a neurodevelopmental disorder (NDD) remain undiagnosed after extensive evaluation. A point in case is our clinically heterogeneous cohort of NDD patients that remained undiagnosed after FRAXA testing, chromosomal microarray analysis and trio exome sequencing (ES). In this study, we explored the frequency of non-random X chromosome inactivation (XCI) in the mothers of male patients and affected females, the rationale being that skewed XCI might be masking previously discarded genetic variants found on the X chromosome. A multiplex fluorescent PCR-based assay was used to analyse the pattern of XCI after digestion with HhaI methylation-sensitive restriction enzyme. In families with skewed XCI, we re-evaluated trio-based ES and identified pathogenic variants and a deletion on the X chromosome. Linkage analysis and RT-PCR were used to further study the inactive X chromosome allele, and Xdrop long-DNA technology was used to define chromosome deletion boundaries. We found skewed XCI (>90\\\\%) in 16/186 (8.6\\\\%) mothers of NDD males and in 12/90 (13.3\\\\%) NDD females, far beyond the expected rate of XCI in the normal population (3.6\\\\%, OR = 4.10; OR = 2.51). By re-analyzing ES and clinical data, we solved 7/28 cases (25\\\\%) with skewed XCI, identifying variants in KDM5C, PDZD4, PHF6, TAF1, OTUD5 and ZMYM3, and a deletion in ATRX. We conclude that XCI profiling is a simple assay that targets a subgroup of patients that can benefit from re-evaluation of X-linked variants, thus improving the diagnostic yield in NDD patients and identifying new X-linked disorders.}', 'pmid': '36879111', 'doi': '10.1038/s41431-023-01324-w', 'issn': '1018-4813', 'journal': 'European Journal of Human Genetics', 'author': 'Giovenino, Chiara and Trajkova, Slavica and Pavinato, Lisa and Cardaropoli, Simona and Pullano, Verdiana and Ferrero, Enza and Sukarova-Angelovska, Elena and Carestiato, Silvia and Salmin, Paola and Rinninella, Antonina and Battaglia, Anthony and Bertoli, Luca and Fadda, Antonio and Palermo, Flavia and Carli, Diana and Mussa, Alessandro and Dimartino, Paola and Bruselles, Alessandro and Froukh, Tawfiq and Mandrile, Giorgia and Pasini, Barbara and Rubeis, Silvia De and Buxbaum, Joseph D. and Pippucci, Tommaso and Tartaglia, Marco and Rossato, Marzia and Delledonne, Massimo and Ferrero, Giovanni Battista and Brusco, Alfredo', 'title': '{Skewed X-chromosome inactivation in unsolved neurodevelopmental disease cases can guide re-evaluation For X-linked genes}', 'year': '2023', 'ENTRYTYPE': 'article', 'ID': '10.1038/s41431-023-01324-w', 'clean_title': 'Skewed X-chromosome inactivation in unsolved neurodevelopmental disease cases can guide re-evaluation For X-linked genes', 'clean_author': 'Giovenino, Chiara Trajkova, Slavica Pavinato, Lisa Delledonne, Massimo Ferrero, Giovanni Battista Brusco, Alfredo'}\n"
     ]
    },
    {
     "data": {
      "text/markdown": [
       "Giovenino, Chiara and Trajkova, Slavica and Pavinato, Lisa and Cardaropoli, Simona and Pullano, Verdiana and Ferrero, Enza and Sukarova-Angelovska, Elena and Carestiato, Silvia and Salmin, Paola and Rinninella, Antonina and Battaglia, Anthony and Bertoli, Luca and Fadda, Antonio and Palermo, Flavia and Carli, Diana and Mussa, Alessandro and Dimartino, Paola and Bruselles, Alessandro and Froukh, Tawfiq and Mandrile, Giorgia and Pasini, Barbara and Rubeis, Silvia De and Buxbaum, Joseph D. and Pippucci, Tommaso and Tartaglia, Marco and Rossato, Marzia and Delledonne, Massimo and Ferrero, Giovanni Battista and Brusco, Alfredo  \n",
       "**Skewed X-chromosome inactivation in unsolved neurodevelopmental disease cases can guide re-evaluation For X-linked genes**  \n",
       "European Journal of Human Genetics (2023)\n",
       "---\n"
      ],
      "text/plain": [
       "<IPython.core.display.Markdown object>"
      ]
     },
     "metadata": {},
     "output_type": "display_data"
    },
    {
     "name": "stdout",
     "output_type": "stream",
     "text": [
      "{'volume': '613', 'number': '7943', 'pages': '308--316', 'abstract': '{The testis produces gametes through spermatogenesis and evolves rapidly at both the morphological and molecular level in mammals1–6, probably owing to the evolutionary pressure on males to be reproductively successful7. However, the molecular evolution of individual spermatogenic cell types across mammals remains largely uncharacterized. Here we report evolutionary analyses of single-nucleus transcriptome data for testes from 11 species that cover the three main mammalian lineages (eutherians, marsupials and monotremes) and birds (the evolutionary outgroup), and include seven primates. We find that the rapid evolution of the testis was driven by accelerated fixation rates of gene expression changes, amino acid substitutions and new genes in late spermatogenic stages, probably facilitated by reduced pleiotropic constraints, haploid selection and transcriptionally permissive chromatin. We identify temporal expression changes of individual genes across species and conserved expression programs controlling ancestral spermatogenic processes. Genes predominantly expressed in spermatogonia (germ cells fuelling spermatogenesis) and Sertoli (somatic support) cells accumulated on X chromosomes during evolution, presumably owing to male-beneficial selective forces. Further work identified transcriptomal differences between X- and Y-bearing spermatids and uncovered that meiotic sex-chromosome inactivation (MSCI) also occurs in monotremes and hence is common to mammalian sex-chromosome systems. Thus, the mechanism of meiotic silencing of unsynapsed chromatin, which underlies MSCI, is an ancestral mammalian feature. Our study illuminates the molecular evolution of spermatogenesis and associated selective forces, and provides a resource for investigating the biology of the testis across mammals. Evolutionary analyses of single-nucleus transcriptome data for testes from 11 species are reported, illuminating the molecular evolution of spermatogenesis and associated forces, and providing a resource for investigating the testis across mammals.}', 'pmcid': 'PMC9834047', 'pmid': '36544022', 'doi': '10.1038/s41586-022-05547-7', 'issn': '0028-0836', 'journal': 'Nature', 'author': 'Murat, Florent and Mbengue, Noe and Winge, Sofia Boeg and Trefzer, Timo and Leushkin, Evgeny and Sepp, Mari and Cardoso-Moreira, Margarida and Schmidt, Julia and Schneider, Celine and Mößinger, Katharina and Brüning, Thoomke and Lamanna, Francesco and Belles, Meritxell Riera and Conrad, Christian and Kondova, Ivanela and Bontrop, Ronald and Behr, Rüdiger and Khaitovich, Philipp and Pääbo, Svante and Marques-Bonet, Tomas and Grützner, Frank and Almstrup, Kristian and Schierup, Mikkel Heide and Kaessmann, Henrik', 'title': '{The molecular evolution of spermatogenesis across mammals}', 'year': '2023', 'ENTRYTYPE': 'article', 'ID': '10.1038/s41586-022-05547-7', 'clean_title': 'The molecular evolution of spermatogenesis across mammals', 'clean_author': 'Murat, Florent Mbengue, Noe Winge, Sofia Boeg Almstrup, Kristian Schierup, Mikkel Heide Kaessmann, Henrik'}\n"
     ]
    },
    {
     "data": {
      "text/markdown": [
       "Murat, Florent and Mbengue, Noe and Winge, Sofia Boeg and Trefzer, Timo and Leushkin, Evgeny and Sepp, Mari and Cardoso-Moreira, Margarida and Schmidt, Julia and Schneider, Celine and Mößinger, Katharina and Brüning, Thoomke and Lamanna, Francesco and Belles, Meritxell Riera and Conrad, Christian and Kondova, Ivanela and Bontrop, Ronald and Behr, Rüdiger and Khaitovich, Philipp and Pääbo, Svante and Marques-Bonet, Tomas and Grützner, Frank and Almstrup, Kristian and Schierup, Mikkel Heide and Kaessmann, Henrik  \n",
       "**The molecular evolution of spermatogenesis across mammals**  \n",
       "Nature (2023)\n",
       "---\n"
      ],
      "text/plain": [
       "<IPython.core.display.Markdown object>"
      ]
     },
     "metadata": {},
     "output_type": "display_data"
    },
    {
     "name": "stdout",
     "output_type": "stream",
     "text": [
      "{'volume': '15', 'number': '1', 'pages': '21', 'abstract': '{Sex chromosome aneuploidies (SCAs) give rise to a broad range of phenotypic traits and diseases. Previous studies based on peripheral blood samples have suggested the presence of ripple effects, caused by altered X chromosome number, affecting the methylome and transcriptome. Whether these alterations can be connected to disease-specific tissues, and thereby having clinical implication for the phenotype, remains to be elucidated. We performed a comprehensive analysis of X chromosome number on the transcriptome and methylome in blood, fat, and muscle tissue from individuals with 45,X, 46,XX, 46,XY, and 47,XXY. X chromosome number affected the transcriptome and methylome globally across all chromosomes in a tissue-specific manner. Furthermore, 45,X and 47,XXY demonstrated a divergent pattern of gene expression and methylation, with overall gene downregulation and hypomethylation in 45,X and gene upregulation and hypermethylation in 47,XXY. In fat and muscle, a pronounced effect of sex was observed. We identified X chromosomal genes with an expression pattern different from what would be expected based on the number of X and Y chromosomes. Our data also indicate a regulatory function of Y chromosomal genes on X chromosomal genes. Fourteen X chromosomal genes were downregulated in 45,X and upregulated in 47,XXY, respectively, in all three tissues (AKAP17A, CD99, DHRSX, EIF2S3, GTPBP6, JPX, KDM6A, PP2R3B, PUDP, SLC25A6, TSIX, XIST, ZBED1, ZFX). These genes may be central in the epigenetic and genomic regulation of sex chromosome aneuploidies. We highlight a tissue-specific and complex effect of X chromosome number on the transcriptome and methylome, elucidating both shared and non-shared gene-regulatory mechanism between SCAs.}', 'pmcid': 'PMC10053618', 'pmid': '36978128', 'doi': '10.1186/s13073-023-01169-4', 'journal': 'Genome Medicine', 'author': 'Viuff, Mette and Skakkebæk, Anne and Johannsen, Emma B. and Chang, Simon and Pedersen, Steen Bønlykke and Lauritsen, Katrine Meyer and Pedersen, Mette Glavind Bülow and Trolle, Christian and Just, Jesper and Gravholt, Claus H.', 'title': '{X chromosome dosage and the genetic impact across human tissues}', 'year': '2023', 'ENTRYTYPE': 'article', 'ID': '10.1186/s13073-023-01169-4', 'clean_title': 'X chromosome dosage and the genetic impact across human tissues', 'clean_author': 'Viuff, Mette Skakkebæk, Anne Johannsen, Emma B. Trolle, Christian Just, Jesper Gravholt, Claus H.'}\n"
     ]
    },
    {
     "data": {
      "text/markdown": [
       "Viuff, Mette and Skakkebæk, Anne and Johannsen, Emma B. and Chang, Simon and Pedersen, Steen Bønlykke and Lauritsen, Katrine Meyer and Pedersen, Mette Glavind Bülow and Trolle, Christian and Just, Jesper and Gravholt, Claus H.  \n",
       "**X chromosome dosage and the genetic impact across human tissues**  \n",
       "Genome Medicine (2023)\n",
       "---\n"
      ],
      "text/plain": [
       "<IPython.core.display.Markdown object>"
      ]
     },
     "metadata": {},
     "output_type": "display_data"
    }
   ],
   "source": [
    "hits = process.extractBests(\"Skov  admixture\", search_strings.keys(), \n",
    "                     scorer=fuzz.partial_token_set_ratio, limit=5)\n",
    "keys, scores = zip(*hits)\n",
    "\n",
    "tmpl = \"\"\"{author}  \n",
    "**{clean_title}**  \n",
    "{journal} ({year})\n",
    "---\n",
    "\"\"\"\n",
    "from IPython.display import Markdown, display\n",
    "\n",
    "for key in keys:\n",
    "    print(search_strings[key])\n",
    "    display(Markdown(tmpl.format(**search_strings[key])))"
   ]
  },
  {
   "cell_type": "code",
   "execution_count": 6,
   "id": "cf3e117d-e29b-49f5-9377-9809fbbe25f7",
   "metadata": {},
   "outputs": [],
   "source": [
    "%macro -q _cite https://gist.githubusercontent.com/kaspermunch/c4a64203651b054e18bae16792b828c6/raw/\n",
    "%macro -q _incite https://gist.githubusercontent.com/kaspermunch/77f78d8d88a816a74b5415ac0640d2b7/raw/\n",
    "%macro -q _reflist https://gist.githubusercontent.com/kaspermunch/977e903f6675b388998b1c3d367f5d55/raw/"
   ]
  },
  {
   "cell_type": "markdown",
   "id": "b7b496f2-1b15-4396-b059-42a89c73cc63",
   "metadata": {},
   "source": [
    "[(Moretti 2017,](https://doi.org/10.1038/cdd.2017.32 \"Moretti et al.\n",
    "2017\n",
    "SLY regulates genes involved in chromatin remodeling and interacts with TBL1XR1 during sperm differentiation\n",
    "DOI:10.1038/cdd.2017.32\") [Edme 2019,](https://doi.org/10.1111/jeb.13404 \"Edme et al.\n",
    "2019\n",
    "Moderate heritability and low evolvability of sperm morphology in a species with high risk of sperm competition, the collared flycatcher Ficedula albicollis\n",
    "DOI:10.1111/jeb.13404\") [Julien 2012)](https://doi.org/10.1371/journal.pbio.1001328 \"Julien et al.\n",
    "2012\n",
    "Mechanisms and Evolutionary Patterns of Mammalian and Avian Dosage Compensation\n",
    "DOI:10.1371/journal.pbio.1001328\")"
   ]
  },
  {
   "cell_type": "markdown",
   "id": "7196c9e8-76c0-41a9-81dd-86e71a6869f2",
   "metadata": {},
   "source": [
    "## References\n",
    "\n",
    "1. Edme et al., 2019, _Moderate heritability and low evolvability of sperm morphology in a species with high risk of sperm competition, the collared flycatcher Ficedula albicollis_, [DOI:10.1111/jeb.13404](https://doi.org/10.1111/jeb.13404)\n",
    "2. Julien et al., 2012, _Mechanisms and Evolutionary Patterns of Mammalian and Avian Dosage Compensation_, [DOI:10.1371/journal.pbio.1001328](https://doi.org/10.1371/journal.pbio.1001328)\n",
    "3. Moretti et al., 2017, _SLY regulates genes involved in chromatin remodeling and interacts with TBL1XR1 during sperm differentiation_, [DOI:10.1038/cdd.2017.32](https://doi.org/10.1038/cdd.2017.32)"
   ]
  },
  {
   "cell_type": "code",
   "execution_count": 22,
   "id": "2809501e-63ec-4e58-b2cf-271258c4846a",
   "metadata": {},
   "outputs": [],
   "source": [
    "# %load jupyter_cite.py\n",
    "# def auth_year_cite():\n",
    "#     match = re.search(r'@\\w+{([^,]+).*year = {(\\d+)}.*title = {{(.*)}}.*author = {([^,]+)',\n",
    "#         clipboard.osx_clipboard_get(), re.DOTALL)\n",
    "#     if match:\n",
    "#         url, year, title, author = match.groups()\n",
    "#         return f'[({author}, {year})]({url} \"{title}\")'\n",
    "# if __name__ == \"__main__\":\n",
    "#     link_text = auth_year_cite()\n",
    "#     get_ipython().run_line_magic('load', '-n link_text')\n",
    "    \n",
    "# import re\n",
    "# from IPython.lib import clipboard\n",
    "# cb = clipboard.osx_clipboard_get()\n",
    "# match = re.search(r'@\\w+{([^,]+).*year = {(\\d+)}.*title = {{(.*)}}.*author = {([^,]+)',\n",
    "#     cb, re.DOTALL)\n",
    "# if match:\n",
    "#     url, year, title, author = match.groups()\n",
    "#     link_text = f'[({author}, {year})](https://doi.org/{url} \"{author} et al., {year},\\n{title},\\nDOI:{url}\")'\n",
    "#     get_ipython().run_line_magic('load', '-n link_text')    \n",
    "#     # get_ipython().run_cell_magic('markdown', '', link_text)    \n",
    "# else:\n",
    "#     print('clipboard is not bibtex:', cb)\n",
    "\n",
    "        \n",
    "# import re\n",
    "# from IPython.lib import clipboard\n",
    "\n",
    "    \n",
    "# from IPython.core.magic import Magics, magics_class, line_magic\n",
    "# @magics_class\n",
    "# class MyMagics(Magics):\n",
    "#     @line_magic\n",
    "#     def replace_content(self, line):\n",
    "#         self.shell.set_next_input(line, replace=True)\n",
    "# ip = get_ipython()\n",
    "# ip.register_magics(MyMagics)\n",
    "    \n",
    "# cb = clipboard.osx_clipboard_get()\n",
    "# bibtex_entries = re.findall(r'\\@[^\\@]+', cb)\n",
    "# cite_list = []\n",
    "# for i, entry in enumerate(bibtex_entries):\n",
    "    \n",
    "#     match = re.search(r'@\\w+{([^,]+).*year = {(\\d+)}.*title = {{(.*)}}.*author = {([^,]+)', entry, re.DOTALL)\n",
    "#     if match:\n",
    "#         url, year, title, author = match.groups()\n",
    "#         if len(bibtex_entries) == 1:\n",
    "#             cite_list.append(f'[({author} {year})](https://doi.org/{url} \"{author} et al.\\n{year}\\n{title}\\nDOI:{url}\")')\n",
    "#         else:\n",
    "#             if i == 0:\n",
    "#                 cite_list.append(f'[({author} {year},](https://doi.org/{url} \"{author} et al.\\n{year}\\n{title}\\nDOI:{url}\")')\n",
    "#             elif i+1 == len(bibtex_entries):\n",
    "#                 cite_list.append(f'[{author} {year})](https://doi.org/{url} \"{author} et al.\\n{year}\\n{title}\\nDOI:{url}\")')\n",
    "#             else:\n",
    "#                 cite_list.append(f'[{author} {year},](https://doi.org/{url} \"{author} et al.\\n{year}\\n{title}\\nDOI:{url}\")')\n",
    "\n",
    "# if cite_list:\n",
    "#     content = ' '.join(cite_list)\n",
    "#     # get_ipython().run_line_magic('load', '-n link_text')   \n",
    "#     get_ipython().run_line_magic('replace_content', f\"{content}\") \n",
    "# else:\n",
    "#     print('clipboard is not bibtex:', cb)\n",
    "        \n",
    "import os\n",
    "import ipynbname\n",
    "import json\n",
    "import re\n",
    "from IPython.lib import clipboard\n",
    "from IPython.core.magic import Magics, magics_class, line_magic\n",
    "\n",
    "@magics_class\n",
    "class MyMagics(Magics):\n",
    "    \n",
    "    @line_magic\n",
    "    def replace_content(self, line):\n",
    "        self.shell.set_next_input(line, replace=True)\n",
    "        \n",
    "ip = get_ipython()\n",
    "ip.register_magics(MyMagics)\n",
    "\n",
    "def cite(cb=clipboard.osx_clipboard_get()):\n",
    "    bibtex_entries = re.findall(r'\\@[^\\@]+', cb)\n",
    "    cite_list = []\n",
    "    for i, entry in enumerate(bibtex_entries):\n",
    "\n",
    "        match = re.search(r'@\\w+{([^,]+).*year = {(\\d+)}.*title = {{(.*)}}.*author = {([^,]+)', entry, re.DOTALL)\n",
    "        if match:\n",
    "            url, year, title, author = match.groups()\n",
    "            if len(bibtex_entries) == 1:\n",
    "                cite_list.append(f'[({author} {year})](https://doi.org/{url} \"{author} et al.\\n{year}\\n{title}\\nDOI:{url}\")')\n",
    "            else:\n",
    "                if i == 0:\n",
    "                    cite_list.append(f'[({author} {year},](https://doi.org/{url} \"{author} et al.\\n{year}\\n{title}\\nDOI:{url}\")')\n",
    "                elif i+1 == len(bibtex_entries):\n",
    "                    cite_list.append(f'[{author} {year})](https://doi.org/{url} \"{author} et al.\\n{year}\\n{title}\\nDOI:{url}\")')\n",
    "                else:\n",
    "                    cite_list.append(f'[{author} {year},](https://doi.org/{url} \"{author} et al.\\n{year}\\n{title}\\nDOI:{url}\")')\n",
    "    content = ' '.join(cite_list)\n",
    "    if content:\n",
    "        get_ipython().run_line_magic('replace_content', f\"{content}\") \n",
    "    else:\n",
    "        print('clipboard is not bibtex:', cb)\n",
    "        \n",
    "def incite(cb=clipboard.osx_clipboard_get()):\n",
    "    bibtex_entries = re.findall(r'\\@[^\\@]+', cb)\n",
    "    if len(bibtex_entries) > 1:\n",
    "        print('clipboard has bibtex entries:', cb)\n",
    "    else:\n",
    "        match = re.search(r'@\\w+{([^,]+).*year = {(\\d+)}.*title = {{(.*)}}.*author = {([^,]+)',\n",
    "            cb, re.DOTALL)\n",
    "        if match:\n",
    "            ref_list = {}\n",
    "            url, year, title, author = match.groups()\n",
    "            content = f'{author} et al. [({year})](https://doi.org/{url} \"{author} et al.\\n{year}\\n{title}\\nDOI:{url}\")'\n",
    "            get_ipython().run_line_magic('replace_content', f\"{content}\") \n",
    "        else:\n",
    "            print('clipboard is not bibtex:', cb)\n",
    "        \n",
    "def reflist():\n",
    "    regex = re.compile(r'\\d+\\s+\"([^\"]+)\"')\n",
    "    references = {}\n",
    "    with open(os.path.abspath(ipynbname.name()+'.ipynb')) as f:\n",
    "        notebook_json = json.load(f)\n",
    "    for cell in notebook_json['cells']:\n",
    "        if cell['cell_type'] == 'markdown':\n",
    "            source = ''.join(cell['source'])\n",
    "            for ref in regex.findall(source):\n",
    "                author, year, title, doi = ref.split('\\n')\n",
    "                references[ref] = dict(author=author.strip(),\n",
    "                                       year=year.strip(), \n",
    "                                       title=title.strip(),\n",
    "                                       doi=doi.strip())\n",
    "    lst = []\n",
    "    for i, (key, ref) in enumerate(sorted(references.items())):\n",
    "        lst.append(f\"{i+1}. {ref['author']}, {ref['year']}, _{ref['title']}_, [{ref['doi']}](https://doi.org/{ref['doi'].replace('DOI:', '')})\")\n",
    "    content = \"\\n\".join(lst)\n",
    "    content = '## References\\n\\n' + content\n",
    "    get_ipython().run_line_magic('replace_content', f\"{content}\") \n",
    "            \n",
    "    "
   ]
  },
  {
   "cell_type": "markdown",
   "id": "852f8b15-bbb3-4189-9d65-ad9fdfd84949",
   "metadata": {},
   "source": [
    "[(Charron 2019)](https://doi.org/10.1371/journal.pgen.1007964 \"Charron et al.\n",
    "2019\n",
    "Two isoforms of the RAC-specific guanine nucleotide exchange factor TIAM2 act oppositely on transmission ratio distortion by the mouse t-haplotype\n",
    "DOI:10.1371/journal.pgen.1007964\")"
   ]
  },
  {
   "cell_type": "markdown",
   "id": "7d898c34-b92d-47aa-afce-ee5c1811bd29",
   "metadata": {},
   "source": [
    "## References\n",
    "\n",
    "1. Aktary et al., 2021, _A role for Dynlt3 in melanosome movement, distribution, acidity and transfer_, [DOI:10.1038/s42003-021-01917-5](https://doi.org/10.1038/s42003-021-01917-5)\n",
    "2. Edme et al., 2019, _Moderate heritability and low evolvability of sperm morphology in a species with high risk of sperm competition, the collared flycatcher Ficedula albicollis_, [DOI:10.1111/jeb.13404](https://doi.org/10.1111/jeb.13404)\n",
    "3. Julien et al., 2012, _Mechanisms and Evolutionary Patterns of Mammalian and Avian Dosage Compensation_, [DOI:10.1371/journal.pbio.1001328](https://doi.org/10.1371/journal.pbio.1001328)\n",
    "4. Moretti et al., 2017, _SLY regulates genes involved in chromatin remodeling and interacts with TBL1XR1 during sperm differentiation_, [DOI:10.1038/cdd.2017.32](https://doi.org/10.1038/cdd.2017.32)"
   ]
  },
  {
   "cell_type": "markdown",
   "id": "cc78d387-3aae-4fa0-8e09-f76d62dfe835",
   "metadata": {},
   "source": [
    "[(Aktary 2021)](https://doi.org/10.1038/s42003-021-01917-5 \"Aktary et al.\n",
    "2021\n",
    "A role for Dynlt3 in melanosome movement, distribution, acidity and transfer\n",
    "DOI:10.1038/s42003-021-01917-5\")"
   ]
  },
  {
   "cell_type": "code",
   "execution_count": 14,
   "id": "adacbdd6-7008-4170-b7f6-5fc67452deda",
   "metadata": {},
   "outputs": [],
   "source": [
    "# import re\n",
    "# from IPython.lib import clipboard\n",
    "\n",
    "# from IPython.core.magic import Magics, magics_class, line_magic\n",
    "# @magics_class\n",
    "# class MyMagics(Magics):\n",
    "#     @line_magic\n",
    "#     def replace_content(self, line):\n",
    "#         self.shell.set_next_input(line, replace=True)\n",
    "# ip = get_ipython()\n",
    "# ip.register_magics(MyMagics)\n",
    "\n",
    "# def _cite(cb=clipboard.osx_clipboard_get()):\n",
    "#     bibtex_entries = re.findall(r'\\@[^\\@]+', cb)\n",
    "#     cite_list = []\n",
    "#     for i, entry in enumerate(bibtex_entries):\n",
    "\n",
    "#         match = re.search(r'@\\w+{([^,]+).*year = {(\\d+)}.*title = {{(.*)}}.*author = {([^,]+)', entry, re.DOTALL)\n",
    "#         if match:\n",
    "#             url, year, title, author = match.groups()\n",
    "#             if len(bibtex_entries) == 1:\n",
    "#                 cite_list.append(f'[({author} {year})](https://doi.org/{url} \"{author} et al.\\n{year}\\n{title}\\nDOI:{url}\")')\n",
    "#             else:\n",
    "#                 if i == 0:\n",
    "#                     cite_list.append(f'[({author} {year},](https://doi.org/{url} \"{author} et al.\\n{year}\\n{title}\\nDOI:{url}\")')\n",
    "#                 elif i+1 == len(bibtex_entries):\n",
    "#                     cite_list.append(f'[{author} {year})](https://doi.org/{url} \"{author} et al.\\n{year}\\n{title}\\nDOI:{url}\")')\n",
    "#                 else:\n",
    "#                     cite_list.append(f'[{author} {year},](https://doi.org/{url} \"{author} et al.\\n{year}\\n{title}\\nDOI:{url}\")')\n",
    "#     content = ' '.join(cite_list)\n",
    "#     if content:\n",
    "#         get_ipython().run_line_magic('replace_content', f\"{content}\") \n",
    "#     else:\n",
    "#         print('clipboard is not bibtex:', cb)\n",
    "\n",
    "# _cite()\n",
    "\n"
   ]
  },
  {
   "cell_type": "code",
   "execution_count": 12,
   "id": "f38f7dd9-6929-4f89-903b-a285442258ca",
   "metadata": {},
   "outputs": [],
   "source": [
    "_cite(\"\"\"\n",
    "@article{10.1038/cdd.2017.32, \n",
    "year = {2017}, \n",
    "title = {{SLY regulates genes involved in chromatin remodeling and interacts with TBL1XR1 during sperm differentiation}}, \n",
    "author = {Moretti, Charlotte and Serrentino, Maria-Elisabetta and Ialy-Radio, Côme and Delessard, Marion and Soboleva, Tatiana A and Tores, Frederic and Leduc, Marjorie and Nitschké, Patrick and Drevet, Joel R and Tremethick, David J and Vaiman, Daniel and Kocer, Ayhan and Cocquet, Julie}, \n",
    "journal = {Cell Death \\& Differentiation}, \n",
    "issn = {1350-9047}, \n",
    "doi = {10.1038/cdd.2017.32}, \n",
    "pmid = {28475176}, \n",
    "pmcid = {PMC5442469}, \n",
    "abstract = {{Sperm differentiation requires unique transcriptional regulation and chromatin remodeling after meiosis to ensure proper compaction and protection of the paternal genome. Abnormal sperm chromatin remodeling can induce sperm DNA damage, embryo lethality and male infertility, yet, little is known about the factors which regulate this process. Deficiency in Sly, a mouse Y chromosome-encoded gene expressed only in postmeiotic male germ cells, has been shown to result in the deregulation of hundreds of sex chromosome-encoded genes associated with multiple sperm differentiation defects and subsequent male infertility. The underlying mechanism remained, to date, unknown. Here, we show that SLY binds to the promoter of sex chromosome-encoded and autosomal genes highly expressed postmeiotically and involved in chromatin regulation. Specifically, we demonstrate that Sly knockdown directly induces the deregulation of sex chromosome-encoded H2A variants and of the H3K79 methyltransferase DOT1L. The modifications prompted by loss of Sly alter the postmeiotic chromatin structure and ultimately result in abnormal sperm chromatin remodeling with negative consequences on the sperm genome integrity. Altogether our results show that SLY is a regulator of sperm chromatin remodeling. Finally we identified that SMRT/N-CoR repressor complex is involved in gene regulation during sperm differentiation since members of this complex, in particular TBL1XR1, interact with SLY in postmeiotic male germ cells.}}, \n",
    "pages = {1029--1044}, \n",
    "number = {6}, \n",
    "volume = {24}, \n",
    "keywords = {}\n",
    "}\"\"\")"
   ]
  },
  {
   "cell_type": "code",
   "execution_count": 20,
   "id": "9e8c7f29-62a9-4906-af43-02452b0f0f42",
   "metadata": {},
   "outputs": [],
   "source": [
    "_cite()"
   ]
  }
 ],
 "metadata": {
  "kernelspec": {
   "display_name": "Python 3 (ipykernel)",
   "language": "python",
   "name": "python3"
  },
  "language_info": {
   "codemirror_mode": {
    "name": "ipython",
    "version": 3
   },
   "file_extension": ".py",
   "mimetype": "text/x-python",
   "name": "python",
   "nbconvert_exporter": "python",
   "pygments_lexer": "ipython3",
   "version": "3.11.3"
  }
 },
 "nbformat": 4,
 "nbformat_minor": 5
}
