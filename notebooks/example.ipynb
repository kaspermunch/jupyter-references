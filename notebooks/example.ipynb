{
 "cells": [
  {
   "cell_type": "code",
   "execution_count": 41,
   "id": "914f0db0-a3cd-4c37-b063-f817f7c6e71b",
   "metadata": {},
   "outputs": [],
   "source": [
    "import jupyter_references\n",
    "from jupyter_references import cite, incite, reflist"
   ]
  },
  {
   "cell_type": "code",
   "execution_count": 42,
   "id": "300aac4e-867a-4073-8c99-4ce5dd859db8",
   "metadata": {},
   "outputs": [
    {
     "data": {
      "text/plain": [
       "<module 'jupyter_references' from '/Users/kmt/My Drive/projects/jupyter-references/jupyter_references/__init__.py'>"
      ]
     },
     "execution_count": 42,
     "metadata": {},
     "output_type": "execute_result"
    }
   ],
   "source": [
    "import importlib\n",
    "importlib.reload(jupyter_references)"
   ]
  },
  {
   "cell_type": "code",
   "execution_count": 43,
   "id": "5de7ce3b-5bb9-4239-b6dc-0ea11a3a4019",
   "metadata": {},
   "outputs": [
    {
     "name": "stdout",
     "output_type": "stream",
     "text": [
      "clipboard is not bibtex:  @article{Schwalie_Ward_Cain_Faure_Gilad_Odom_Flicek_2013, title={Co-binding by YY1 identifies the transcriptionally active, highly conserved set of CTCF-bound regions in primate genomes}, volume={14}, ISSN={1465-6906}, DOI={10.1186/gb-2013-14-12-r148}, abstractNote={The genomic binding of CTCF is highly conserved across mammals, but the mechanisms that underlie its stability are poorly understood. One transcription factor known to functionally interact with CTCF in the context of X-chromosome inactivation is the ubiquitously expressed YY1. Because combinatorial transcription factor binding can contribute to the evolutionary stabilization of regulatory regions, we tested whether YY1 and CTCF co-binding could in part account for conservation of CTCF binding. Combined analysis of CTCF and YY1 binding in lymphoblastoid cell lines from seven primates, as well as in mouse and human livers, reveals extensive genome-wide co-localization specifically at evolutionarily stable CTCF-bound regions. CTCF-YY1 co-bound regions resemble regions bound by YY1 alone, as they enrich for active histone marks, RNA polymerase II and transcription factor binding. Although these highly conserved, transcriptionally active CTCF-YY1 co-bound regions are often promoter-proximal, gene-distal regions show similar molecular features. Our results reveal that these two ubiquitously expressed, multi-functional zinc-finger proteins collaborate in functionally active regions to stabilize one another’s genome-wide binding across primate evolution.}, number={12}, journal={Genome Biology}, author={Schwalie, Petra C and Ward, Michelle C and Cain, Carolyn E and Faure, Andre J and Gilad, Yoav and Odom, Duncan T and Flicek, Paul}, year={2013}, pages={R148} }\n"
     ]
    }
   ],
   "source": [
    "jupyter_references.cite()"
   ]
  },
  {
   "cell_type": "code",
   "execution_count": null,
   "id": "81ed7de8-7e9a-41b7-867e-41416b0b1173",
   "metadata": {},
   "outputs": [],
   "source": []
  }
 ],
 "metadata": {
  "kernelspec": {
   "display_name": "Python 3 (ipykernel)",
   "language": "python",
   "name": "python3"
  },
  "language_info": {
   "codemirror_mode": {
    "name": "ipython",
    "version": 3
   },
   "file_extension": ".py",
   "mimetype": "text/x-python",
   "name": "python",
   "nbconvert_exporter": "python",
   "pygments_lexer": "ipython3",
   "version": "3.11.4"
  }
 },
 "nbformat": 4,
 "nbformat_minor": 5
}
